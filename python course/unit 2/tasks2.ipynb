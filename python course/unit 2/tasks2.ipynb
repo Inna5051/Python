{
 "cells": [
  {
   "cell_type": "code",
   "execution_count": 1,
   "metadata": {},
   "outputs": [
    {
     "name": "stdout",
     "output_type": "stream",
     "text": [
      "[  1   2   3   4   0 100]\n"
     ]
    }
   ],
   "source": [
    "#1 Створити функцію яка приймає на вхід два масива типу ndarray та повертає масив сума елементів якого найбільша. \n",
    "\n",
    "import numpy as np\n",
    "\n",
    "arr1 = np.array([1,2,3,4,0, 100])\n",
    "arr2 = np.array([2,2,35,4,8])\n",
    "\n",
    "def get_biggest_array(arr1, arr2):\n",
    "    if np.sum(arr1) > np.sum(arr2):\n",
    "        return arr1\n",
    "    else:\n",
    "        return arr2\n",
    "\n",
    "print( get_biggest_array(arr1, arr2) )"
   ]
  },
  {
   "cell_type": "code",
   "execution_count": 2,
   "metadata": {},
   "outputs": [
    {
     "name": "stdout",
     "output_type": "stream",
     "text": [
      "23\n"
     ]
    }
   ],
   "source": [
    "#2 Створити функцію яка приймає на вхід масив типу ndarray та повертає суму його унікальних елементів. \n",
    "import numpy as np\n",
    "\n",
    "arr = np.array([1,2,3,4,9,9,4,10,-6])\n",
    "\n",
    "def sum_of_unique(arr):\n",
    "    output = np.unique(arr)\n",
    "    return np.sum(output)\n",
    "\n",
    "print( sum_of_unique(arr) )"
   ]
  },
  {
   "cell_type": "code",
   "execution_count": 4,
   "metadata": {},
   "outputs": [
    {
     "name": "stdout",
     "output_type": "stream",
     "text": [
      "[[1 2 3]\n",
      " [4 5 6]\n",
      " [7 8 9]]\n"
     ]
    }
   ],
   "source": [
    "#3 Створити функцію яка приймає на вхід одновимірний масив типу ndarray, змінює його форму на 3х3 та повертає результат. \n",
    "# Додатково: спробуйте в самій функції реалізувати перевірку розміру вхідного масиву, так щоб переконатись що його форму можна привести до 3х3\n",
    "# Назва функції повинна бути як і в прикладі та сама функція повинна повертати ту ж кількість параметрів того же типу який зазначений нижче\n",
    "import numpy as np\n",
    "\n",
    "arr = np.array([1,2,3,4,5,6,7,8,9])\n",
    "\n",
    "def reshape_array(arr):\n",
    "    if np.size(arr) == 9:\n",
    "        arr.shape = (3, 3)    \n",
    "        return arr   \n",
    "    else:\n",
    "        return \"Got not valid array\"\n",
    "    \n",
    "   \n",
    "\n",
    "print( reshape_array(arr))\n"
   ]
  },
  {
   "cell_type": "code",
   "execution_count": 5,
   "metadata": {},
   "outputs": [
    {
     "name": "stdout",
     "output_type": "stream",
     "text": [
      "[8 0 0 0 1]\n"
     ]
    }
   ],
   "source": [
    "#4 Створити функцію яка приймає на вхід одновимірний масив типу ndarray, розбиває його на 5 бінів та повертає масив з кількістю елементів в кожному біні. \n",
    "\n",
    "arr = np.array([1,2,3,4,5,6,7,8,90])\n",
    "\n",
    "def get_frequency(arr):\n",
    "    result = np.histogram(arr, bins=5)\n",
    "    #print(result[1])\n",
    "    return result[0]\n",
    "\n",
    "print( get_frequency(arr))"
   ]
  },
  {
   "cell_type": "code",
   "execution_count": 6,
   "metadata": {},
   "outputs": [
    {
     "name": "stdout",
     "output_type": "stream",
     "text": [
      "[1 4 7]\n"
     ]
    }
   ],
   "source": [
    "#5 Створити функцію яка приймає на вхід масив ndarray квадратної форми, та повертає його перший стовбець. \n",
    "\n",
    "arr = np.array([[1,2,3],[4,5,6],[7,8,9]])\n",
    "\n",
    "def get_first_column(arr):\n",
    "\n",
    "    if arr.shape[0] != arr.shape[1]:\n",
    "        return \"Масив має бути квадратним\"\n",
    "\n",
    "    return arr[:, 0]\n",
    "\n",
    "print( get_first_column(arr) )"
   ]
  },
  {
   "cell_type": "code",
   "execution_count": 7,
   "metadata": {},
   "outputs": [
    {
     "name": "stdout",
     "output_type": "stream",
     "text": [
      "[[1 2 3 1]\n",
      " [4 5 6 6]]\n"
     ]
    }
   ],
   "source": [
    "#6 Створити функцію яка приймає на вхід масив ndarray квадратної форми, та повертає два перші рядки масиву\n",
    "\n",
    "arr = np.array([[1,2,3,1],[4,5,6,6],[7,8,9,9],[0,0,0,0]])\n",
    "\n",
    "def get_two_first_rows(arr):\n",
    "\n",
    "    if arr.shape[0] != arr.shape[1]:\n",
    "        return \"Масив має бути квадратним\"\n",
    "\n",
    "    return arr[0:2, :]\n",
    "\n",
    "print( get_two_first_rows(arr) )"
   ]
  },
  {
   "cell_type": "code",
   "execution_count": 8,
   "metadata": {},
   "outputs": [
    {
     "name": "stdout",
     "output_type": "stream",
     "text": [
      "[[-1 -1  3]\n",
      " [-3  0 -3]\n",
      " [ 6 -1  9]]\n"
     ]
    }
   ],
   "source": [
    "#7 Створити функцію яка приймає на вхід два масива ndarray квадратної форми, та повертає їх різницю\n",
    "\n",
    "arr1 = np.array([[1,2,3],[4,5,6],[7,8,9]])\n",
    "arr2 = np.array([[2,3,0],[7,5,9],[1,9,0]])\n",
    "\n",
    "def arrays_substract(arr1, arr2):\n",
    "    return np.subtract(arr1, arr2)\n",
    "\n",
    "print(arrays_substract(arr1, arr2))\n"
   ]
  },
  {
   "cell_type": "code",
   "execution_count": 9,
   "metadata": {},
   "outputs": [
    {
     "name": "stdout",
     "output_type": "stream",
     "text": [
      "[3 4 5 6 7 8 9]\n"
     ]
    }
   ],
   "source": [
    "#8 Створити функцію яка приймає на вхід масив ndarray квадратної форми, та повертає його елементи які більше 2\n",
    "\n",
    "arr = np.array([[1,2,3],[4,5,6],[7,8,9]])\n",
    "\n",
    "def get_greater_the_two(arr):\n",
    "    #arr = arr[arr>2]\n",
    "    return arr[arr>2]\n",
    "\n",
    "print( get_greater_the_two(arr) )"
   ]
  },
  {
   "cell_type": "code",
   "execution_count": 10,
   "metadata": {},
   "outputs": [
    {
     "name": "stdout",
     "output_type": "stream",
     "text": [
      "[-1 -4 -6 -9]\n"
     ]
    }
   ],
   "source": [
    "#9 Створити функцію яка приймає на вхід масив ndarray квадратної форми, та повертає всі його від'ємні елементи\n",
    "\n",
    "arr = np.array([[-1,2,3],[-4,5,-6],[7,8,-9]])\n",
    "\n",
    "def get_negative_elements(arr):\n",
    "    #arr = arr[arr<0]\n",
    "    return arr[arr<0]\n",
    "\n",
    "print( get_negative_elements(arr))"
   ]
  },
  {
   "cell_type": "code",
   "execution_count": 11,
   "metadata": {},
   "outputs": [
    {
     "name": "stdout",
     "output_type": "stream",
     "text": [
      "[[2 0 3]\n",
      " [5 4 6]\n",
      " [8 7 9]]\n"
     ]
    }
   ],
   "source": [
    "#10 Створити функцію яка приймає на вхід масив ndarray квадратної форми, міняє місцями два перші його стовбці, та повертає нову версію масиву(уже зі зміненним порядком стовбців)\n",
    "\n",
    "arr = np.array([[0,2,3],[4,5,6],[7,8,9]])\n",
    "\n",
    "def swap_columns(arr):\n",
    "    #arr = arr[:,[1,0,2]]\n",
    "    return arr[:,[1,0,2]]\n",
    "\n",
    "print( swap_columns(arr))"
   ]
  },
  {
   "cell_type": "code",
   "execution_count": 12,
   "metadata": {},
   "outputs": [
    {
     "name": "stdout",
     "output_type": "stream",
     "text": [
      "[[-0.5         1.         -0.5       ]\n",
      " [-1.66666667  0.33333333  1.        ]\n",
      " [ 1.16666667 -0.33333333 -0.5       ]]\n"
     ]
    }
   ],
   "source": [
    "#11 Створити функцію яка приймає на вхід масив ndarray квадратної форми, транспонує його, знаходить обернену матрицю та повертає даний результат\n",
    "\n",
    "arr = np.array([[1,2,1],[4,5,6],[7,8,9]])\n",
    "\n",
    "def traspose_and_get_inv(arr):\n",
    "    arr = np.transpose(arr)\n",
    "    return np.linalg.inv(arr)\n",
    "\n",
    "print( traspose_and_get_inv(arr))"
   ]
  },
  {
   "cell_type": "code",
   "execution_count": 13,
   "metadata": {},
   "outputs": [
    {
     "name": "stdout",
     "output_type": "stream",
     "text": [
      "[[ 3  1  5]\n",
      " [ 9  2 19]\n",
      " [17 88 36]]\n"
     ]
    }
   ],
   "source": [
    "#12 Створити функцію яка приймає на вхід масив ndarray квадратної форми, та сортує його по axis=0(першій осі)\n",
    "\n",
    "arr = np.array([[3,2,5],[9,1,36],[17,88,19]])\n",
    "\n",
    "def sort_by_first_axis(arr):\n",
    "    \n",
    "    arr = np.sort(arr, axis=0)\n",
    "    \n",
    "    return arr\n",
    "\n",
    "print( sort_by_first_axis(arr))"
   ]
  },
  {
   "cell_type": "code",
   "execution_count": 14,
   "metadata": {},
   "outputs": [
    {
     "name": "stdout",
     "output_type": "stream",
     "text": [
      "[[3. 0. 5.]\n",
      " [0. 1. 2.]\n",
      " [0. 3. 0.]]\n"
     ]
    }
   ],
   "source": [
    "#13 Створити функцію яка приймає на вхід масив ndarray квадратної форми, та заміняє в ньому всі значення nan на нулі, після чого повертає його оновлену версію\n",
    "\n",
    "arr = np.array([[3,np.nan,5],[np.nan,1,2],[np.nan,3,np.nan]])\n",
    "\n",
    "def replace_nan_on_zero(arr):\n",
    "    temp_arr = np.isnan(arr)\n",
    "    arr = np.where( temp_arr, 0, arr)\n",
    "    return arr\n",
    "    \n",
    "print(replace_nan_on_zero(arr))"
   ]
  },
  {
   "cell_type": "code",
   "execution_count": 15,
   "metadata": {},
   "outputs": [
    {
     "name": "stdout",
     "output_type": "stream",
     "text": [
      "[[     16      16     250]\n",
      " [   1458       2   93312]\n",
      " [   9826 1362944   13718]]\n"
     ]
    }
   ],
   "source": [
    "#14 Створити функцію яка приймає на вхід масив ndarray квадратної форми, підносить його до степеню 3 та множить результуючий масив на 2, після чого повертає результат\n",
    "\n",
    "arr = np.array([[2,2,5],[9,1,36],[17,88,19]])\n",
    "\n",
    "def calculate_array(arr):\n",
    "    return (arr**3)*2\n",
    "\n",
    "print( calculate_array(arr))"
   ]
  },
  {
   "cell_type": "code",
   "execution_count": 16,
   "metadata": {},
   "outputs": [
    {
     "name": "stdout",
     "output_type": "stream",
     "text": [
      "[[[ 3  2  5]\n",
      "  [ 9  1 36]\n",
      "  [17 88 19]]]\n"
     ]
    }
   ],
   "source": [
    "#15 Створити функцію яка приймає на вхід масив ndarray квадратної форми, збільшує його розмірність на 1 по першій осі та повертає результат\n",
    "\n",
    "arr = np.array([[3,2,5],[9,1,36],[17,88,19]])\n",
    "\n",
    "def increase_ndim(arr):\n",
    "    arr = np.expand_dims(arr, axis = 0)\n",
    "    #print(arr[0, 1,2])\n",
    "    return arr\n",
    "\n",
    "print( increase_ndim(arr))"
   ]
  }
 ],
 "metadata": {
  "kernelspec": {
   "display_name": "Python 3",
   "language": "python",
   "name": "python3"
  },
  "language_info": {
   "codemirror_mode": {
    "name": "ipython",
    "version": 3
   },
   "file_extension": ".py",
   "mimetype": "text/x-python",
   "name": "python",
   "nbconvert_exporter": "python",
   "pygments_lexer": "ipython3",
   "version": "3.12.4"
  }
 },
 "nbformat": 4,
 "nbformat_minor": 2
}
