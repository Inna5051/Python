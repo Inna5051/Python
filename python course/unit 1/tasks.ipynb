{
 "cells": [
  {
   "cell_type": "code",
   "execution_count": 1,
   "metadata": {},
   "outputs": [
    {
     "name": "stdout",
     "output_type": "stream",
     "text": [
      "[1, 2, 3, 5, 8, 13, 89, 10]\n"
     ]
    }
   ],
   "source": [
    "# 1 Поверніть список, який складається з елементів, які є спільними для обох списків.\n",
    "\n",
    "list1 = [1, 1, 2, 3, 5, 8, 13, 21, 34, 55, 89, 10]  \n",
    "list2 = [1, 2, 3, 4, 5, 6, 7, 8, 9, 10, 11, 12, 13, 89, 1, 10]\n",
    "\n",
    "def common_elements(list1, list2):\n",
    "    list = []\n",
    "    for item in list1:\n",
    "        if( item in list2):\n",
    "            if( (item in list) == False):\n",
    "                list.append(item)        \n",
    "    return list\n",
    "\n",
    "print(common_elements(list1, list2))"
   ]
  },
  {
   "cell_type": "code",
   "execution_count": 2,
   "metadata": {},
   "outputs": [
    {
     "name": "stdout",
     "output_type": "stream",
     "text": [
      "{'c': 8, 'a': 5, 'b': 2, 'd': 1}\n",
      "{'c': 8, 'a': 5, 'b': 2, 'd': 1}\n"
     ]
    }
   ],
   "source": [
    "#2 Відсортуйте словник за значеннями в порядку зростання і спадання.\n",
    "\n",
    "my_dict = {'a': 5, 'b': 2, 'c': 8, 'd': 1}\n",
    "\n",
    "def sort_dict_by_values(my_dict):\n",
    "    sorted_dict = dict(sorted(my_dict.items(), key=lambda item: item[1]))\n",
    "    sorted_dict = dict(sorted(sorted_dict.items(), key=lambda item: item[1], reverse=True))\n",
    "    return sorted_dict\n",
    "\n",
    "def sort_dict_by_values_reverse(my_dict):\n",
    "    sorted_dict = dict(sorted(my_dict.items(), key=lambda item: item[1], reverse=True))\n",
    "    return sorted_dict\n",
    "\n",
    "print(sort_dict_by_values(my_dict))\n",
    "print(sort_dict_by_values_reverse(my_dict))"
   ]
  },
  {
   "cell_type": "code",
   "execution_count": 3,
   "metadata": {},
   "outputs": [
    {
     "name": "stdout",
     "output_type": "stream",
     "text": [
      "{'a': 1, 'b': 2}\n",
      "{'a': 1, 'b': 2, 'c': 3, 'd': 4, 'g': 18, 'e': 5, 'f': 6}\n"
     ]
    }
   ],
   "source": [
    "#3 Об'єднайте кілька словників в один.\n",
    "\n",
    "dict1 = {'a': 1, 'b': 2}  \n",
    "dict2 = {'c': 3, 'd': 4, 'g': 18}  \n",
    "dict3 = {'e': 5, 'f': 6}\n",
    "\n",
    "def merge_dicts(dict1, dict2, dict3):\n",
    "    dict1.update(dict2)\n",
    "    dict1.update(dict3)\n",
    "    return dict1\n",
    "print(dict1)\n",
    "print( merge_dicts(dict1, dict2, dict3))"
   ]
  },
  {
   "cell_type": "code",
   "execution_count": 4,
   "metadata": {},
   "outputs": [
    {
     "name": "stdout",
     "output_type": "stream",
     "text": [
      "(10, 19)\n"
     ]
    }
   ],
   "source": [
    "#4 Виведіть перші і останні елементи списку.\n",
    "\n",
    "my_list = [10, 20, 30, 40, 50, 19]\n",
    "\n",
    "def first_and_last_elements(my_list):\n",
    "    my_tuple = (my_list[0], my_list[-1])\n",
    "    return my_tuple\n",
    "\n",
    "print(first_and_last_elements(my_list))"
   ]
  },
  {
   "cell_type": "code",
   "execution_count": 5,
   "metadata": {},
   "outputs": [
    {
     "name": "stdout",
     "output_type": "stream",
     "text": [
      "(['1', ' 60', ' 45', ' 6 ', ' 1'], ('1', ' 60', ' 45', ' 6 ', ' 1'))\n"
     ]
    }
   ],
   "source": [
    "#5 Прийміть від користувача послідовність чисел, розділених комою, і створіть список і кортеж з цих чисел. - ??????\n",
    "\n",
    "user_input = input('Enter a number: ')\n",
    "\n",
    "def create_list_and_tuple(user_input):\n",
    "    mylist = user_input.split(',')\n",
    "    mytuple = tuple(mylist)\n",
    "    outcome = (mylist, mytuple)\n",
    "    return outcome\n",
    "\n",
    "print(create_list_and_tuple(user_input))\n",
    "#print(a[0])"
   ]
  },
  {
   "cell_type": "code",
   "execution_count": 6,
   "metadata": {},
   "outputs": [
    {
     "name": "stdout",
     "output_type": "stream",
     "text": [
      "[386, 462, 418]\n"
     ]
    }
   ],
   "source": [
    "#6 Виведіть всі парні числа зі списку, зупиніться, якщо зустрінете число 237.\n",
    "\n",
    "numbers = [386, 462, 47, 418, 237, 344, 236, 375, 823, 566, 597, 978, 328, 615, 953, 345, 399, 162, 758, 219, 918, 237, 412, 566, 826, 248, 866, 950, 626, 949, 687, 217]\n",
    "\n",
    "def even_numbers_until_237(numbers):\n",
    "    even_numbers = []\n",
    "    for item in numbers:\n",
    "        if( item == 237):\n",
    "            return even_numbers\n",
    "        if(item % 2== 0):\n",
    "            even_numbers.append(item)\n",
    "    return even_numbers        \n",
    "\n",
    "print(even_numbers_until_237(numbers))"
   ]
  },
  {
   "cell_type": "code",
   "execution_count": 8,
   "metadata": {},
   "outputs": [
    {
     "name": "stdout",
     "output_type": "stream",
     "text": [
      "banana\n"
     ]
    }
   ],
   "source": [
    "#7 Перевірте, чи містить список рядків хоча б один ключ у словнику, і виведіть значення цього ключа.\n",
    "\n",
    "str_list = [\"apple1\", \"banana\", \"cherry3\", \"date\"]  \n",
    "dictionary = {\"apple\": 5, \"banana\": 8, \"cherry\": 12}\n",
    "\n",
    "def check_keys_in_dict(strings, dictionary):\n",
    "    for key in dictionary:\n",
    "       if( key in strings):\n",
    "            return key \n",
    "    return None    \n",
    "\n",
    "print(check_keys_in_dict(str_list, dictionary))"
   ]
  },
  {
   "cell_type": "code",
   "execution_count": 11,
   "metadata": {},
   "outputs": [
    {
     "name": "stdout",
     "output_type": "stream",
     "text": [
      "True\n"
     ]
    }
   ],
   "source": [
    "#8 Перевірте, чи є всі елементи кортежу унікальними, використовуючи цикл `for`.\n",
    "\n",
    "my_tuple = (1, 2, 4, 5, 9 , 10, 3)\n",
    "\n",
    "def check_unique_elements(my_tuple):\n",
    "    for i in range(len(my_tuple) - 1):\n",
    "        #print(my_tuple[i])\n",
    "        for j in range( i + 1, len(my_tuple)):\n",
    "            if(my_tuple[i] == my_tuple[j]):\n",
    "                return False\n",
    "            \n",
    "    return True\n",
    "    # return bool\n",
    "print(check_unique_elements(my_tuple))"
   ]
  },
  {
   "cell_type": "code",
   "execution_count": 12,
   "metadata": {},
   "outputs": [
    {
     "name": "stdout",
     "output_type": "stream",
     "text": [
      "{'a': 4, 'b': 4, 'c': 3, 'd': 13}\n"
     ]
    }
   ],
   "source": [
    "#9 Об'єднайте два словники, додаючи значення для однакових ключів, використовуючи цикл `for`.\n",
    "\n",
    "dict1 = {'a': 1, 'b': 2, 'c': 3, 'd': 9}  \n",
    "dict2 = {'a': 3, 'b': 2, 'd': 4}\n",
    "\n",
    "def merge_dicts_add_values(dict1, dict2):\n",
    "    dict1_copy = dict1.copy()\n",
    "\n",
    "    for key2, value2 in dict2.items():\n",
    "        if key2 in dict1_copy:\n",
    "            dict1_copy[key2] += dict2[key2]\n",
    "        else:\n",
    "            dict1_copy[key2] = dict2[key2]\n",
    "    return dict1_copy\n",
    "\n",
    "print(merge_dicts_add_values(dict1, dict2))"
   ]
  },
  {
   "cell_type": "code",
   "execution_count": 14,
   "metadata": {},
   "outputs": [
    {
     "name": "stdout",
     "output_type": "stream",
     "text": [
      "quick\n"
     ]
    }
   ],
   "source": [
    "#10 Знайдіть найдовше слово у рядку, використовуючи цикл `for`.\n",
    "\n",
    "my_string = \"The quick brown fox jumps over the lazy dog\"\n",
    "\n",
    "def find_longest_word(my_string):\n",
    "    list = my_string.split()\n",
    "\n",
    "    result = list[0]\n",
    "    for i in range(1, len(list)):\n",
    "        if len(result) < len(list[i]):\n",
    "            result = list[i]\n",
    "    return result\n",
    "\n",
    "print(find_longest_word(my_string))"
   ]
  },
  {
   "cell_type": "code",
   "execution_count": 15,
   "metadata": {},
   "outputs": [
    {
     "name": "stdout",
     "output_type": "stream",
     "text": [
      "[2, 4, 6, 8, 10, 12, 14, 16, 18, 20, 22, 24, 26, 28, 30, 32, 34, 36, 38, 40, 42, 44, 46, 48]\n"
     ]
    }
   ],
   "source": [
    "#11 Виведіть всі парні числа від 1 до 50, використовуючи цикл `for`.\n",
    "\n",
    "def even_numbers_1_to_50():\n",
    "    list = []\n",
    "    for i in range(1, 50):\n",
    "        if i % 2 == 0:\n",
    "            list.append(i)\n",
    "    return list\n",
    "\n",
    "print(even_numbers_1_to_50())"
   ]
  },
  {
   "cell_type": "code",
   "execution_count": 16,
   "metadata": {},
   "outputs": [
    {
     "name": "stdout",
     "output_type": "stream",
     "text": [
      "[5, 8]\n"
     ]
    }
   ],
   "source": [
    "#12 Виведіть всі елементи словника, використовуючи цикл `for`.\n",
    "\n",
    "my_dict = {\"apple\": 5, \"banana\": 8}\n",
    "def print_dict_elements(my_dict):\n",
    "    list = []\n",
    "    for value in my_dict.values():\n",
    "        list.append(value)\n",
    "    return list\n",
    "print(print_dict_elements(my_dict))"
   ]
  },
  {
   "cell_type": "code",
   "execution_count": 17,
   "metadata": {},
   "outputs": [
    {
     "name": "stdout",
     "output_type": "stream",
     "text": [
      "45\n"
     ]
    }
   ],
   "source": [
    "#13 Обчисліть суму всіх чисел у списку, використовуючи цикл `for`.\n",
    "\n",
    "numbers = [1, 2, 3, 4, 5, 6, 7, 8, 9]\n",
    "\n",
    "def sum_of_list(numbers):\n",
    "    sum = 0\n",
    "    for item in numbers:\n",
    "        sum += item\n",
    "    return sum\n",
    "print(sum_of_list(numbers))"
   ]
  },
  {
   "cell_type": "code",
   "execution_count": 18,
   "metadata": {},
   "outputs": [
    {
     "name": "stdout",
     "output_type": "stream",
     "text": [
      "['123', '124', '132', '134', '142', '143', '213', '214', '231', '234', '241', '243', '312', '314', '321', '324', '341', '342', '412', '413', '421', '423', '431', '432']\n"
     ]
    }
   ],
   "source": [
    "#14 Виведіть всі унікальні комбінації елементів списку з довжиною 3, використовуючи цикл `for`.\n",
    "\n",
    "my_list = [1, 2, 3, 4]\n",
    "\n",
    "def unique_combinations(my_list):\n",
    "    new_list = []\n",
    "    for item in my_list:\n",
    "        for item1 in my_list:\n",
    "            if item1 != item:\n",
    "                for item2 in my_list:\n",
    "                    if item != item2 and item2 != item1:\n",
    "                        new_list.append(str(item) + str(item1) + str(item2))\n",
    "    return new_list\n",
    "print(unique_combinations(my_list))\n"
   ]
  },
  {
   "cell_type": "code",
   "execution_count": 19,
   "metadata": {},
   "outputs": [
    {
     "name": "stdout",
     "output_type": "stream",
     "text": [
      "[5, 4, 3, 2, 1]\n"
     ]
    }
   ],
   "source": [
    "#15 Переверніть список, використовуючи цикл `for`.\n",
    "\n",
    "my_list = [1, 2, 3, 4, 5]\n",
    "\n",
    "def reverse_list(my_list):\n",
    "    new_list = []\n",
    "    for item in my_list[::-1]:\n",
    "        new_list.append(item)\n",
    "    return new_list\n",
    "\n",
    "print(reverse_list(my_list))"
   ]
  },
  {
   "cell_type": "code",
   "execution_count": 20,
   "metadata": {},
   "outputs": [
    {
     "name": "stdout",
     "output_type": "stream",
     "text": [
      "[1, 2, 3, 4, 5]\n"
     ]
    }
   ],
   "source": [
    "#16 Видаліть всі дублікати зі списку, використовуючи цикл `for`.\n",
    "\n",
    "my_list = [1, 2, 2, 3, 4, 4, 5]\n",
    "\n",
    "def remove_duplicates(my_list):\n",
    "    my_list_copy = my_list.copy()\n",
    "    for idx, item in enumerate(reversed(my_list)):\n",
    "        if my_list_copy.count(item) > 1:      \n",
    "            index = len(my_list) - idx - 1\n",
    "            del my_list_copy[index]\n",
    "    return my_list_copy\n",
    "print(remove_duplicates(my_list))\n"
   ]
  },
  {
   "cell_type": "code",
   "execution_count": 21,
   "metadata": {},
   "outputs": [
    {
     "name": "stdout",
     "output_type": "stream",
     "text": [
      "[[1], [2], [3], [4], [1, 2, 3], [1, 2, 4], [1, 3, 2], [1, 3, 4], [1, 4, 2], [1, 4, 3], [2, 1, 3], [2, 1, 4], [2, 3, 1], [2, 3, 4], [2, 4, 1], [2, 4, 3], [3, 1, 2], [3, 1, 4], [3, 2, 1], [3, 2, 4], [3, 4, 1], [3, 4, 2], [4, 1, 2], [4, 1, 3], [4, 2, 1], [4, 2, 3], [4, 3, 1], [4, 3, 2]]\n"
     ]
    }
   ],
   "source": [
    "#17 Виведіть всі підсписки з непарною кількістю елементів, використовуючи цикл `for`.\n",
    "\n",
    "from itertools import *\n",
    "\n",
    "my_list = [1, 2, 3, 4]\n",
    "\n",
    "def odd_length_sublists(my_list):\n",
    "    outcome = []\n",
    "\n",
    "    for i in range(1, len(my_list), 2):\n",
    "        comb = list(permutations(my_list, i))\n",
    "\n",
    "        for j in range(len(comb)):\n",
    "            outcome.append(list(comb[j]))\n",
    "\n",
    "    return outcome\n",
    "\n",
    "print(odd_length_sublists(my_list))"
   ]
  },
  {
   "cell_type": "code",
   "execution_count": 22,
   "metadata": {},
   "outputs": [
    {
     "name": "stdout",
     "output_type": "stream",
     "text": [
      "25\n"
     ]
    }
   ],
   "source": [
    "#18 Обчисліть суму всіх значень у словнику, використовуючи цикл `for`\n",
    "\n",
    "my_dict = {'a': 1, 'b': 2, 'c': 3, 'd': 19}\n",
    "\n",
    "def sum_dict_values(my_dict):\n",
    "    sum = 0\n",
    "    for value in my_dict.values():\n",
    "        sum += value          \n",
    "    return sum       \n",
    "    \n",
    "print(sum_dict_values(my_dict))"
   ]
  },
  {
   "cell_type": "code",
   "execution_count": 23,
   "metadata": {},
   "outputs": [
    {
     "name": "stdout",
     "output_type": "stream",
     "text": [
      "{1: 'a', 2: 'b', 3: 'c'}\n"
     ]
    }
   ],
   "source": [
    "#19 Переверніть словник (ключі стають значеннями і навпаки), використовуючи цикл `for`.\n",
    "\n",
    "my_dict = {'a': 1, 'b': 2, 'c': 3}\n",
    "\n",
    "def reverse_dict(my_dict):\n",
    "    new_dict = {}\n",
    "\n",
    "    for key, value in my_dict.items():\n",
    "        new_dict[value] = key\n",
    "    \n",
    "    return new_dict\n",
    "\n",
    "print(reverse_dict(my_dict))"
   ]
  },
  {
   "cell_type": "code",
   "execution_count": 24,
   "metadata": {},
   "outputs": [
    {
     "name": "stdout",
     "output_type": "stream",
     "text": [
      "b\n"
     ]
    }
   ],
   "source": [
    "#20 Знайдіть ключ з максимальним значенням у словнику, використовуючи цикл `for`.\n",
    "\n",
    "my_dict = {'a': 1, 'b': 15, 'c': 3, 'd': 13}\n",
    "\n",
    "def key_with_max_value(my_dict):\n",
    "    keys = list(my_dict.keys())\n",
    "    max_value = my_dict.pop(keys[0])\n",
    "    result_key = keys[0]\n",
    "\n",
    "    for key in my_dict.keys():\n",
    "        if max_value < my_dict[key]:\n",
    "            max_value = my_dict[key]\n",
    "            result_key = key\n",
    "    \n",
    "    return result_key\n",
    "\n",
    "print(key_with_max_value(my_dict))"
   ]
  },
  {
   "cell_type": "code",
   "execution_count": 25,
   "metadata": {},
   "outputs": [
    {
     "name": "stdout",
     "output_type": "stream",
     "text": [
      "[40, 20, 10, 0]\n"
     ]
    }
   ],
   "source": [
    "#21 Зробіть реверс списку.\n",
    "\n",
    "xs = [0, 10, 20, 40]\n",
    "\n",
    "def reverse_list(xs):\n",
    "    return list(reversed(xs))\n",
    "\n",
    "print(reverse_list(xs))"
   ]
  },
  {
   "cell_type": "code",
   "execution_count": 26,
   "metadata": {},
   "outputs": [
    {
     "data": {
      "text/plain": [
       "[1, 2, 3, 4, 5]"
      ]
     },
     "execution_count": 26,
     "metadata": {},
     "output_type": "execute_result"
    }
   ],
   "source": [
    "#22 Зробіть реверс списку і відсортуйте його за зростанням.\n",
    "\n",
    "my_list = [3, 1, 4, 2, 5]\n",
    "\n",
    "def reverse_and_sort(my_list):\n",
    "    return list(sorted(reversed(my_list)))\n",
    "reverse_and_sort(my_list)"
   ]
  }
 ],
 "metadata": {
  "kernelspec": {
   "display_name": "Python 3",
   "language": "python",
   "name": "python3"
  },
  "language_info": {
   "codemirror_mode": {
    "name": "ipython",
    "version": 3
   },
   "file_extension": ".py",
   "mimetype": "text/x-python",
   "name": "python",
   "nbconvert_exporter": "python",
   "pygments_lexer": "ipython3",
   "version": "3.12.4"
  }
 },
 "nbformat": 4,
 "nbformat_minor": 4
}
