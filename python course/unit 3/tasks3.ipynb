{
 "cells": [
  {
   "cell_type": "code",
   "execution_count": 1,
   "metadata": {},
   "outputs": [
    {
     "name": "stdout",
     "output_type": "stream",
     "text": [
      "Понеділок    1\n",
      "Вівторок     2\n",
      "Середа       3\n",
      "Четвер       4\n",
      "П'ятниця     5\n",
      "Субота       6\n",
      "dtype: int64\n"
     ]
    }
   ],
   "source": [
    "import pandas as pd\n",
    "\n",
    "#1.Напишіть функцію, яка створить Series з чисел, де як індекси використовуйте список днів тижня та виведе на екран обидві Series.\n",
    "\n",
    "numbers = [1, 2, 3, 4, 5, 6]\n",
    "days_of_week = ['Понеділок', 'Вівторок', 'Середа', 'Четвер', \"П'ятниця\", \"Субота\"]\n",
    "\n",
    "def task_1(numbers, days_of_week):\n",
    "    return pd.Series(numbers, index=days_of_week)\n",
    "    # return series\n",
    "\n",
    "print(task_1(numbers, days_of_week))"
   ]
  },
  {
   "cell_type": "code",
   "execution_count": 2,
   "metadata": {},
   "outputs": [
    {
     "name": "stdout",
     "output_type": "stream",
     "text": [
      "Андрій      35\n",
      "Вікторія    40\n",
      "Олег        27\n",
      "Світлана    33\n",
      "dtype: int64\n"
     ]
    }
   ],
   "source": [
    "#2 Напишіть функцію, яка створить Series з даного словника та виведе на екран створений Series.\n",
    "\n",
    "data = {'Андрій': 35, 'Вікторія': 40, 'Олег': 27, 'Світлана': 33}\n",
    "\n",
    "def task_2(data):\n",
    "    return pd.Series(data)\n",
    "    # return series\n",
    "\n",
    "print(task_2(data))"
   ]
  },
  {
   "cell_type": "code",
   "execution_count": 3,
   "metadata": {},
   "outputs": [
    {
     "name": "stdout",
     "output_type": "stream",
     "text": [
      "0    32\n",
      "1    29\n",
      "2    24\n",
      "dtype: int64\n"
     ]
    },
    {
     "name": "stderr",
     "output_type": "stream",
     "text": [
      "/var/folders/tx/86rh89c14295d4lt_9_1h2sh0000gn/T/ipykernel_3599/224436635.py:7: FutureWarning: Series.__getitem__ treating keys as positions is deprecated. In a future version, integer keys will always be treated as labels (consistent with DataFrame behavior). To access a value by position, use `ser.iloc[pos]`\n",
      "  return pd.Series([data['Світлана'], data[0], data[2]] )\n"
     ]
    }
   ],
   "source": [
    "#3. Напишіть функцію, яка отримає доступ до значення за індексом 'Світлана', виведе на екран значення віку 'Світлани', отримає доступ до значень за числовими індексами 0 та 2 та виведе на екран значення за цими індексами.\n",
    "\n",
    "data = {'Богдан': 29, 'Світлана': 32, 'Дмитро': 24, 'Ірина': 26}\n",
    "\n",
    "def task_3(data):\n",
    "    data = pd.Series(data)\n",
    "    return pd.Series([data['Світлана'], data[0], data[2]] )\n",
    "    # return series\n",
    "\n",
    "print( task_3(data))"
   ]
  },
  {
   "cell_type": "code",
   "execution_count": 4,
   "metadata": {},
   "outputs": [
    {
     "name": "stdout",
     "output_type": "stream",
     "text": [
      "Владислав    20\n",
      "Євген        28\n",
      "Максим       31\n",
      "dtype: int64\n"
     ]
    }
   ],
   "source": [
    "#4 Напишіть функцію, яка створить Series з даного словника та виведе кожне друге значення, починаючи з першого, за допомогою зрізу.\n",
    "\n",
    "data = {'Владислав': 20, 'Людмила': 34, 'Євген': 28, 'Анастасія': 25, 'Максим': 31}\n",
    "\n",
    "def task_4(data):\n",
    "    data = pd.Series(data)\n",
    "    data = data[0::2]\n",
    "    return data\n",
    "\n",
    "print( task_4(data))"
   ]
  },
  {
   "cell_type": "code",
   "execution_count": 5,
   "metadata": {},
   "outputs": [
    {
     "name": "stdout",
     "output_type": "stream",
     "text": [
      "Олександр    15000.0\n",
      "Наталія      24000.0\n",
      "Павло        17000.0\n",
      "Віолетта     19000.0\n",
      "Денис        26000.0\n",
      "Average      20200.0\n",
      "dtype: float64\n"
     ]
    }
   ],
   "source": [
    "#5 Напишіть функцію, яка створить Series з даного словника, додасть до кожного балансу 1000 одиниць, виведе на екран змінений Series, \n",
    "# застосує функцію для обчислення середнього балансу та виведе середній баланс на екран.\n",
    "\n",
    "balances = {'Олександр': 14000, 'Наталія': 23000, 'Павло': 16000, 'Віолетта': 18000, 'Денис': 25000}\n",
    "\n",
    "def task_5(balances):\n",
    "    balances = pd.Series(balances)\n",
    "    balances += 1000\n",
    "    balances['Average'] = balances.mean()\n",
    "    return balances\n",
    "\n",
    "# return series\n",
    "\n",
    "print(task_5(balances))"
   ]
  },
  {
   "cell_type": "code",
   "execution_count": 6,
   "metadata": {},
   "outputs": [
    {
     "name": "stdout",
     "output_type": "stream",
     "text": [
      "Юлія      24000\n",
      "Ольга     22000\n",
      "Микола    30000\n",
      "dtype: int64\n"
     ]
    }
   ],
   "source": [
    "#6 Напишіть функцію, яка створить Series з даного словника, відфільтрує та виведе значення, що більше за 20000 одиниць.\n",
    "\n",
    "balances = {'Роман': 12000, 'Юлія': 24000, 'Сергій': 15000, 'Ольга': 22000, 'Микола': 30000}\n",
    "\n",
    "def task_6(balances):\n",
    "    balances = pd.Series(balances)\n",
    "    return balances[balances > 20000]\n",
    "    # return series\n",
    "\n",
    "print(task_6(balances))"
   ]
  },
  {
   "cell_type": "code",
   "execution_count": 7,
   "metadata": {},
   "outputs": [
    {
     "name": "stdout",
     "output_type": "stream",
     "text": [
      "Тарас      16000\n",
      "Ярослав    17000\n",
      "Марина     18000\n",
      "Артем      21000\n",
      "dtype: int64\n"
     ]
    }
   ],
   "source": [
    "#7 Напишіть функцію, яка створить Series з даного словника, відфільтрує та виведе значення, що більше за 15000 одиниць та менше за 25000 одиниць.\n",
    "\n",
    "balances = {'Тарас': 16000, 'Інна': 26000, 'Ярослав': 17000, 'Марина': 18000, 'Артем': 21000}\n",
    "\n",
    "def task_7(balances):\n",
    "    balances = pd.Series(balances)\n",
    "    return balances[(balances > 15000) & (balances < 25000)]\n",
    "    # return series\n",
    "\n",
    "print(task_7(balances))"
   ]
  },
  {
   "cell_type": "code",
   "execution_count": 8,
   "metadata": {},
   "outputs": [
    {
     "name": "stdout",
     "output_type": "stream",
     "text": [
      "Владислав        NaN\n",
      "Олеся        27000.0\n",
      "Ігор             NaN\n",
      "Вікторія     22000.0\n",
      "Лев          23000.0\n",
      "dtype: float64\n"
     ]
    }
   ],
   "source": [
    "#8 Напишіть функцію, яка створить Series з даного словника, використає функцію where(), щоб залишити лише ті значення, що більше за 20000 одиниць.\n",
    "\n",
    "balances = {'Владислав': 12000, 'Олеся': 27000, 'Ігор': 14000, 'Вікторія': 22000, 'Лев': 23000}\n",
    "\n",
    "def task_8(balances):\n",
    "    balances = pd.Series(balances)\n",
    "    condition = balances > 20000\n",
    "    return balances.where(condition)\n",
    "    # return series\n",
    "\n",
    "print(task_8(balances))"
   ]
  },
  {
   "cell_type": "code",
   "execution_count": 9,
   "metadata": {},
   "outputs": [
    {
     "name": "stdout",
     "output_type": "stream",
     "text": [
      "Костянтин        0\n",
      "Анна         29000\n",
      "Іван             0\n",
      "Надія            0\n",
      "Віктор           0\n",
      "dtype: int64\n"
     ]
    }
   ],
   "source": [
    "#9 Напишіть функцію, яка створить Series з даного словника, використає функцію mask(),\n",
    "#  щоб замінити ті значення, що менші або рівні 20000 одиниць, на 0 та виведе змінений Series на екран.\n",
    "\n",
    "balances = {'Костянтин': 15000, 'Анна': 29000, 'Іван': 10000, 'Надія': 20000, 'Віктор': 17000}\n",
    "\n",
    "def task_9(balances):\n",
    "    balances = pd.Series(balances)\n",
    "    balances = balances.mask( balances <= 20000, other=0)\n",
    "    return balances\n",
    "    # return series\n",
    "\n",
    "print(task_9(balances))"
   ]
  },
  {
   "cell_type": "code",
   "execution_count": 10,
   "metadata": {},
   "outputs": [
    {
     "name": "stdout",
     "output_type": "stream",
     "text": [
      "Михайло     False\n",
      "Олена        True\n",
      "Андрій      False\n",
      "Катерина    False\n",
      "Дмитро       True\n",
      "dtype: bool\n"
     ]
    }
   ],
   "source": [
    "#10 Напишіть функцію, яка створить Series з даного словника, визначить пропущені значення за допомогою логічних операцій та виведе на екран Series, що показує True для пропущених значень і False для інших.\n",
    "\n",
    "balances = {'Михайло': 18000, 'Олена': None, 'Андрій': 13000, 'Катерина': 25000, 'Дмитро': None}\n",
    "\n",
    "def task_10(balances):\n",
    "    balances = pd.Series(balances)\n",
    "    return pd.Series( balances.isna())\n",
    "    # return series\n",
    "\n",
    "print(task_10(balances))"
   ]
  },
  {
   "cell_type": "code",
   "execution_count": 11,
   "metadata": {},
   "outputs": [
    {
     "name": "stdout",
     "output_type": "stream",
     "text": [
      "Арсен       Low\n",
      "Лідія      High\n",
      "Петро       Low\n",
      "Наталя     High\n",
      "Віталій     Low\n",
      "dtype: object\n"
     ]
    }
   ],
   "source": [
    "#11 Напишіть функцію, яка створить Series з даного словника, використає функцію apply(), \n",
    "# #щоб визначити, чи кожен баланс перевищує 20000 одиниць та замінити його на \"High\" або \"Low\" відповідно, \n",
    "# виведе змінений Series на екран.\n",
    "\n",
    "balances = {'Арсен': 19000, 'Лідія': 21000, 'Петро': 12000, 'Наталя': 23000, 'Віталій': 16000}\n",
    "\n",
    "def verify_balance(balance):\n",
    "    if balance > 20000:\n",
    "        balance = 'High'\n",
    "    else:\n",
    "        balance = 'Low'\n",
    "    return balance\n",
    "\n",
    "\n",
    "\n",
    "def task_11(balances):\n",
    "    balances = pd.Series(balances)\n",
    "    return balances.apply(verify_balance)\n",
    "\n",
    "    # return series\n",
    "\n",
    "print(task_11(balances))"
   ]
  },
  {
   "cell_type": "code",
   "execution_count": 12,
   "metadata": {},
   "outputs": [
    {
     "name": "stdout",
     "output_type": "stream",
     "text": [
      "Богдан     Low\n",
      "Алла      High\n",
      "Ігор      High\n",
      "Тетяна    High\n",
      "Юрій       Low\n",
      "dtype: object\n"
     ]
    }
   ],
   "source": [
    "#12 Напишіть функцію, яка створить Series з даного словника, використає функцію apply() з lambda-функцією,\n",
    "#  щоб визначити, чи кожен баланс перевищує 20000 одиниць та замінити його на \"High\" або \"Low\" відповідно, виведе змінений Series на екран.\n",
    "\n",
    "#df['Age Category'] = df['Age'].apply(lambda age: 'Older than 30' if age > 30 else '30 or younger')\n",
    "\n",
    "balances = {'Богдан': 17000, 'Алла': 26000, 'Ігор': 110000, 'Тетяна': 22000, 'Юрій': 15000}\n",
    "\n",
    "def task_12(balances):\n",
    "    balances = pd.Series(balances)\n",
    "    return balances.apply(lambda balance: 'High' if balance > 20000 else 'Low')\n",
    "    # return series\n",
    "\n",
    "print(task_12(balances))"
   ]
  },
  {
   "cell_type": "code",
   "execution_count": 14,
   "metadata": {},
   "outputs": [
    {
     "name": "stdout",
     "output_type": "stream",
     "text": [
      "Юлія         17000\n",
      "Микола       28000\n",
      "Оксана       15000\n",
      "Леонід       20000\n",
      "Валентина    30000\n",
      "Юлія         19000\n",
      "dtype: int64\n"
     ]
    }
   ],
   "source": [
    "#13 Напишіть функцію, яка імпортує бібліотеку Pandas, створить два Series з даних словників, \n",
    "# об'єднає ці два Series у один та виведе на екран об'єднаний Series.\n",
    "\n",
    "balances_branch1 = {'Юлія': 17000, 'Микола': 28000, 'Оксана': 15000}\n",
    "balances_branch2 = {'Леонід': 20000, 'Валентина': 30000, 'Юлія': 19000}\n",
    "\n",
    "def task_13(balances_branch1, balances_branch2):\n",
    "    balances_branch1 = pd.Series(balances_branch1)\n",
    "    balances_branch2 = pd.Series(balances_branch2)\n",
    "    return pd.concat([balances_branch1, balances_branch2])\n",
    "    # return series\n",
    "\n",
    "print( task_13(balances_branch1, balances_branch2))"
   ]
  }
 ],
 "metadata": {
  "kernelspec": {
   "display_name": "Python 3",
   "language": "python",
   "name": "python3"
  },
  "language_info": {
   "codemirror_mode": {
    "name": "ipython",
    "version": 3
   },
   "file_extension": ".py",
   "mimetype": "text/x-python",
   "name": "python",
   "nbconvert_exporter": "python",
   "pygments_lexer": "ipython3",
   "version": "3.12.4"
  }
 },
 "nbformat": 4,
 "nbformat_minor": 2
}
