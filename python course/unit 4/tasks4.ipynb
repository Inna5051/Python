{
 "cells": [
  {
   "cell_type": "code",
   "execution_count": 1,
   "metadata": {},
   "outputs": [
    {
     "name": "stdout",
     "output_type": "stream",
     "text": [
      "2.2.3\n"
     ]
    }
   ],
   "source": [
    "import pandas as pd\n",
    "\n",
    "print(pd.__version__)"
   ]
  },
  {
   "cell_type": "code",
   "execution_count": 2,
   "metadata": {},
   "outputs": [
    {
     "name": "stdout",
     "output_type": "stream",
     "text": [
      "                  client_name  balance credit_rating    loan\n",
      "0                        Іван  15000.0           750    5000\n",
      "1                       Марія  22000.0           780    8000\n",
      "2                     Олексій  13000.0           690    7000\n",
      "3                       Олена  19000.0           720    6500\n",
      "4        middle_value_balance  17250.0          <NA>    <NA>\n",
      "5  middle_value_credit_rating      NaN         735.0     NaN\n",
      "6           middle_value_loan      NaN           NaN  6625.0\n"
     ]
    },
    {
     "name": "stderr",
     "output_type": "stream",
     "text": [
      "/var/folders/tx/86rh89c14295d4lt_9_1h2sh0000gn/T/ipykernel_3615/1115214212.py:14: FutureWarning: The behavior of DataFrame concatenation with empty or all-NA entries is deprecated. In a future version, this will no longer exclude empty or all-NA columns when determining the result dtypes. To retain the old behavior, exclude the relevant entries before the concat operation.\n",
      "  df.loc[len(df)] = ['middle_value_credit_rating', pd.NA, df['credit_rating'].mean(), pd.NA]\n",
      "/var/folders/tx/86rh89c14295d4lt_9_1h2sh0000gn/T/ipykernel_3615/1115214212.py:15: FutureWarning: The behavior of DataFrame concatenation with empty or all-NA entries is deprecated. In a future version, this will no longer exclude empty or all-NA columns when determining the result dtypes. To retain the old behavior, exclude the relevant entries before the concat operation.\n",
      "  df.loc[len(df)] = ['middle_value_loan', pd.NA, pd.NA, df['loan'].mean()]\n"
     ]
    }
   ],
   "source": [
    "#1. Створіть функцію, яка приймає список словників, створює DataFrame і додає рядки з середніми значеннями для кожного показника. \n",
    "# Нові рядки повинні називатися middle_value_balance, middle_value_credit_rating і middle_value_loan.\"\n",
    "\n",
    "clients_data = [\n",
    "{'client_name': 'Іван', 'balance': 15000, 'credit_rating': 750, 'loan': 5000},\n",
    "{'client_name': 'Марія', 'balance': 22000, 'credit_rating': 780, 'loan': 8000},\n",
    "{'client_name': 'Олексій', 'balance': 13000, 'credit_rating': 690, 'loan': 7000},\n",
    "{'client_name': 'Олена', 'balance': 19000, 'credit_rating': 720, 'loan': 6500}\n",
    "]\n",
    "\n",
    "def task_1(clients_data):\n",
    "    df = pd.DataFrame(clients_data)\n",
    "    df.loc[len(df)] = ['middle_value_balance', df['balance'].mean(), pd.NA, pd.NA]\n",
    "    df.loc[len(df)] = ['middle_value_credit_rating', pd.NA, df['credit_rating'].mean(), pd.NA]\n",
    "    df.loc[len(df)] = ['middle_value_loan', pd.NA, pd.NA, df['loan'].mean()]\n",
    "    return df\n",
    "    # return dataframe\n",
    "\n",
    "print(task_1(clients_data))"
   ]
  },
  {
   "cell_type": "code",
   "execution_count": 3,
   "metadata": {},
   "outputs": [
    {
     "name": "stdout",
     "output_type": "stream",
     "text": [
      "1    800\n",
      "5    790\n",
      "3    760\n",
      "4    740\n",
      "0    710\n",
      "2    680\n",
      "Name: sort_credit_score, dtype: int64\n"
     ]
    }
   ],
   "source": [
    "#2. Створіть функцію, яка приймає список словників, створює DataFrame і відсортуйте клієнтів за значенням credit_score у порядку спадання \n",
    "# та записує результат у новий стовпець sort_credit_score.\n",
    "\n",
    "clients_info = [\n",
    "    {'customer_name': 'Андрій', 'savings': 50000, 'credit_score': 710, 'loan_amount': 20000},\n",
    "    {'customer_name': 'Вікторія', 'savings': 34000, 'credit_score': 800, 'loan_amount': 12000},\n",
    "    {'customer_name': 'Дмитро', 'savings': 18000, 'credit_score': 680, 'loan_amount': 9000},\n",
    "    {'customer_name': 'Наталія', 'savings': 29000, 'credit_score': 760, 'loan_amount': 11000},\n",
    "    {'customer_name': 'Олександра', 'savings': 22000, 'credit_score': 740, 'loan_amount': 10500},\n",
    "    {'customer_name': 'Ірина', 'savings': 31000, 'credit_score': 790, 'loan_amount': 13000}\n",
    "]\n",
    "\n",
    "def task_2(clients_info):\n",
    "    df = pd.DataFrame(clients_info)\n",
    "    df = df.sort_values(by=\"credit_score\", ascending=False)\n",
    "    df['sort_credit_score'] = df['credit_score']\n",
    "    return df['sort_credit_score']\n",
    "    # return dataframe\n",
    "\n",
    "print(task_2(clients_info))"
   ]
  },
  {
   "cell_type": "code",
   "execution_count": 4,
   "metadata": {},
   "outputs": [
    {
     "name": "stdout",
     "output_type": "stream",
     "text": [
      "1    28000\n",
      "3    33000\n",
      "4    40000\n",
      "2    45000\n",
      "5    47000\n",
      "0    52000\n",
      "Name: sort_balance, dtype: int64\n"
     ]
    }
   ],
   "source": [
    "#3. Створіть функцію, яка приймає список словників, створює DataFrame, відсортовує клієнтів за значенням balance у порядку зростання \n",
    "# та записує результат у новий стовпець sort_balance.\n",
    "\n",
    "client_records = [\n",
    "    {'client_name': 'Олексій', 'balance': 52000, 'credit_rating': 790, 'mortgage_amount': 20000},\n",
    "    {'client_name': 'Марина', 'balance': 28000, 'credit_rating': 750, 'mortgage_amount': 15000},\n",
    "    {'client_name': 'Іван', 'balance': 45000, 'credit_rating': 760, 'mortgage_amount': 17000},\n",
    "    {'client_name': 'Наталя', 'balance': 33000, 'credit_rating': 720, 'mortgage_amount': 14000},\n",
    "    {'client_name': 'Сергій', 'balance': 40000, 'credit_rating': 780, 'mortgage_amount': 16000},\n",
    "    {'client_name': 'Тетяна', 'balance': 47000, 'credit_rating': 800, 'mortgage_amount': 19000}\n",
    "]\n",
    "\n",
    "def task_3(client_records):\n",
    "    df = pd.DataFrame(client_records)\n",
    "    df_sorted = df.sort_values(by=\"balance\")\n",
    "    df_sorted['sort_balance'] = df_sorted['balance']\n",
    "    return df_sorted['sort_balance']\n",
    "    # return dataframe\n",
    "\n",
    "print(task_3(client_records))"
   ]
  },
  {
   "cell_type": "code",
   "execution_count": 5,
   "metadata": {},
   "outputs": [
    {
     "name": "stdout",
     "output_type": "stream",
     "text": [
      "     name  salary department\n",
      "3    Іван   80000  Marketing\n",
      "4    Інна   55000         IT\n",
      "1   Ірина   60000         HR\n",
      "5   Надія   75000    Finance\n",
      "0  Андрій   50000         IT\n",
      "2  Дмитро   70000    Finance\n"
     ]
    }
   ],
   "source": [
    "#4. Створіть функцію, яка приймає список словників, створює DataFrame, відсортовує і повертає всі значення колонки name.\n",
    "# чому І перед А??\n",
    "\n",
    "#Якщо просто використовувати функцію без locale імена на літеру І встановлюються на перше місце\n",
    "# тому шукала інша варіанти як сортувати за алфавітом правильно\n",
    "\n",
    "import locale\n",
    "locale.setlocale(locale.LC_COLLATE, 'uk_UA.UTF-8')\n",
    "\n",
    "employee_data = [\n",
    "    {'name': 'Андрій', 'salary': 50000, 'department': 'IT'},\n",
    "    {'name': 'Ірина', 'salary': 60000, 'department': 'HR'},\n",
    "    {'name': 'Дмитро', 'salary': 70000, 'department': 'Finance'},\n",
    "    {'name': 'Іван', 'salary': 80000, 'department': 'Marketing'},\n",
    "    {'name': 'Інна', 'salary': 55000, 'department': 'IT'},\n",
    "    {'name': 'Надія', 'salary': 75000, 'department': 'Finance'}\n",
    "]\n",
    "\n",
    "\n",
    "def locale_sort(s):\n",
    "    return locale.strxfrm(s)\n",
    "\n",
    "def task_4(employee_data):\n",
    "    df = pd.DataFrame(employee_data)\n",
    "    df_sorted = df.sort_values(by='name', key=lambda x: x.map(locale_sort))\n",
    "    return df_sorted\n",
    "\n",
    "print(task_4(employee_data))\n",
    "\n",
    "#def sort_name(employee_name):\n",
    "   # ukrainian_alphabet = 'АБВГҐДЕЄЖЗИІЙКЛМНОПРСТУФХЦЧШЩЬЮЯ'\n",
    "   # return [ukrainian_alphabet.index(c) for c in employee_name]\n",
    "\n",
    "#def task_4(employee_data):\n",
    "    #df = pd.DataFrame(employee_data)\n",
    "    #df_names = df.sort_values(by='name')\n",
    "   # df_names =  df.sort_values(by='name', key=lambda x: x.map(sort_name))\n",
    "    #return df_names['name']\n",
    "    # return dataframe\n",
    "\n",
    "#print(task_4(employee_data))"
   ]
  },
  {
   "cell_type": "code",
   "execution_count": 6,
   "metadata": {},
   "outputs": [
    {
     "name": "stdout",
     "output_type": "stream",
     "text": [
      "   credit_score  loan_amount\n",
      "0           720        15000\n",
      "1           810        14000\n",
      "2           700         9000\n",
      "3           750         8500\n",
      "4           730         9200\n",
      "5           780        12500\n"
     ]
    }
   ],
   "source": [
    "#5. Створіть функцію, яка приймає список словників, створює DataFrame і повертає значення колонок credit_score та loan_amount\n",
    "\n",
    "customer_info = [\n",
    "    {'full_name': 'Богдан', 'account_balance': 35000, 'credit_score': 720, 'loan_amount': 15000},\n",
    "    {'full_name': 'Катерина', 'account_balance': 42000, 'credit_score': 810, 'loan_amount': 14000},\n",
    "    {'full_name': 'Михайло', 'account_balance': 29000, 'credit_score': 700, 'loan_amount': 9000},\n",
    "    {'full_name': 'Ольга', 'account_balance': 36000, 'credit_score': 750, 'loan_amount': 8500},\n",
    "    {'full_name': 'Петро', 'account_balance': 40000, 'credit_score': 730, 'loan_amount': 9200},\n",
    "    {'full_name': 'Софія', 'account_balance': 45000, 'credit_score': 780, 'loan_amount': 12500}\n",
    "]\n",
    "\n",
    "def task_5(customer_info):\n",
    "    df = pd.DataFrame(customer_info)\n",
    "    return df[['credit_score', 'loan_amount']]\n",
    "    # return dataframe\n",
    "\n",
    "print(task_5(customer_info))   "
   ]
  },
  {
   "cell_type": "code",
   "execution_count": 7,
   "metadata": {},
   "outputs": [
    {
     "name": "stdout",
     "output_type": "stream",
     "text": [
      "  student  english\n",
      "0    Олег       78\n",
      "1    Юлія       84\n",
      "2  Сергій       70\n",
      "3  Оксана       88\n",
      "4   Денис       80\n",
      "5   Аліна       85\n"
     ]
    }
   ],
   "source": [
    "#6 Створіть функцію, яка приймає список словників, створює DataFrame і за допомогою df.loc повертає значення student та english\n",
    "\n",
    "student_grades = [\n",
    "    {'student': 'Олег', 'math': 85, 'science': 90, 'english': 78},\n",
    "    {'student': 'Юлія', 'math': 92, 'science': 88, 'english': 84},\n",
    "    {'student': 'Сергій', 'math': 75, 'science': 80, 'english': 70},\n",
    "    {'student': 'Оксана', 'math': 89, 'science': 95, 'english': 88},\n",
    "    {'student': 'Денис', 'math': 82, 'science': 78, 'english': 80},\n",
    "    {'student': 'Аліна', 'math': 90, 'science': 92, 'english': 85}\n",
    "]\n",
    "\n",
    "def task_6(student_grades):\n",
    "    df = pd.DataFrame(student_grades)\n",
    "    return  df.loc[:, ['student', 'english']] \n",
    "    # return dataframe\n",
    "\n",
    "\n",
    "print(task_6(student_grades)) "
   ]
  },
  {
   "cell_type": "code",
   "execution_count": 8,
   "metadata": {},
   "outputs": [
    {
     "name": "stdout",
     "output_type": "stream",
     "text": [
      "  supplier_name  total_sales  rating\n",
      "0    Компанія А        27000     4.5\n",
      "1    Компанія Б        32000     4.8\n",
      "5    Компанія Е        31000     4.7\n"
     ]
    }
   ],
   "source": [
    "#7. Створіть функцію, яка приймає список словників, створює DataFrame і повертає дані постачальників, у яких total_sales більше ніж 25000.\n",
    "\n",
    "supplier_data = [\n",
    "    {'supplier_name': 'Компанія А', 'total_sales': 27000, 'rating': 4.5},\n",
    "    {'supplier_name': 'Компанія Б', 'total_sales': 32000, 'rating': 4.8},\n",
    "    {'supplier_name': 'Компанія В', 'total_sales': 15000, 'rating': 4.2},\n",
    "    {'supplier_name': 'Компанія Г', 'total_sales': 23000, 'rating': 4.6},\n",
    "    {'supplier_name': 'Компанія Д', 'total_sales': 20000, 'rating': 4.3},\n",
    "    {'supplier_name': 'Компанія Е', 'total_sales': 31000, 'rating': 4.7}\n",
    "]\n",
    "\n",
    "def task_7(supplier_data):\n",
    "    df = pd.DataFrame(supplier_data)\n",
    "    return df[df['total_sales'] > 25000]\n",
    "    # return dataframe\n",
    "\n",
    "print(task_7(supplier_data)) "
   ]
  },
  {
   "cell_type": "code",
   "execution_count": 9,
   "metadata": {},
   "outputs": [
    {
     "name": "stdout",
     "output_type": "stream",
     "text": [
      "  customer_name  savings_balance  credit_rating  mortgage_amount\n",
      "0       Олексій            52000            790            20000\n",
      "2          Іван            45000            760            17000\n",
      "5        Тетяна            47000            800            19000\n"
     ]
    }
   ],
   "source": [
    "#8. Створіть функцію, яка приймає список словників, створює DataFrame і повертає дані клієнтів, \n",
    "# у яких savings_balance більше ніж 40000 та credit_rating більше ніж 750.\n",
    "\n",
    "customers_data = [\n",
    "    {'customer_name': 'Олексій', 'savings_balance': 52000, 'credit_rating': 790, 'mortgage_amount': 20000},\n",
    "    {'customer_name': 'Марина', 'savings_balance': 28000, 'credit_rating': 750, 'mortgage_amount': 15000},\n",
    "    {'customer_name': 'Іван', 'savings_balance': 45000, 'credit_rating': 760, 'mortgage_amount': 17000},\n",
    "    {'customer_name': 'Наталя', 'savings_balance': 33000, 'credit_rating': 720, 'mortgage_amount': 14000},\n",
    "    {'customer_name': 'Сергій', 'savings_balance': 40000, 'credit_rating': 780, 'mortgage_amount': 16000},\n",
    "    {'customer_name': 'Тетяна', 'savings_balance': 47000, 'credit_rating': 800, 'mortgage_amount': 19000}\n",
    "]\n",
    "\n",
    "def task_8(customers_data):\n",
    "    df = pd.DataFrame(customers_data)\n",
    "    return df[(df['savings_balance'] > 40000) & (df['credit_rating'] > 750)]\n",
    "    # return dataframe\n",
    "\n",
    "\n",
    "print(task_8(customers_data)) "
   ]
  },
  {
   "cell_type": "code",
   "execution_count": 10,
   "metadata": {},
   "outputs": [
    {
     "name": "stdout",
     "output_type": "stream",
     "text": [
      "   application_id   applicant  amount    status\n",
      "0             201      Андрій   50000  approved\n",
      "1             202    Вікторія   30000  approved\n",
      "2             203      Дмитро   40000  rejected\n",
      "3             204     Наталія   60000  approved\n",
      "4             205  Олександра   35000  approved\n",
      "5             206       Ірина   45000  approved\n"
     ]
    }
   ],
   "source": [
    "#9. Створіть функцію, яка приймає список словників, створює DataFrame, змінює значення у стовпці status з pending на approved,\n",
    "#  і повертає оновлений DataFrame.\n",
    "\n",
    "loan_applications = [\n",
    "    {'application_id': 201, 'applicant': 'Андрій', 'amount': 50000, 'status': 'pending'},\n",
    "    {'application_id': 202, 'applicant': 'Вікторія', 'amount': 30000, 'status': 'approved'},\n",
    "    {'application_id': 203, 'applicant': 'Дмитро', 'amount': 40000, 'status': 'rejected'},\n",
    "    {'application_id': 204, 'applicant': 'Наталія', 'amount': 60000, 'status': 'pending'},\n",
    "    {'application_id': 205, 'applicant': 'Олександра', 'amount': 35000, 'status': 'approved'},\n",
    "    {'application_id': 206, 'applicant': 'Ірина', 'amount': 45000, 'status': 'pending'}\n",
    "]\n",
    "\n",
    "def task_9(loan_applications):\n",
    "    df = pd.DataFrame(loan_applications)\n",
    "    df_updated = df.loc[df['status'] == 'pending', 'status'] = 'approved'\n",
    "    return df\n",
    "    # return dataframe\n",
    "\n",
    "\n",
    "print(task_9(loan_applications)) "
   ]
  },
  {
   "cell_type": "code",
   "execution_count": 11,
   "metadata": {},
   "outputs": [
    {
     "name": "stdout",
     "output_type": "stream",
     "text": [
      "    client_id     name  balance loan_status\n",
      "0  1035226412     Юрій    15000    approved\n",
      "1  1035226413   Лариса    25000     pending\n",
      "2  1035226414     Ігор    20000    approved\n",
      "3  1035226415    Олена    18000    rejected\n",
      "4  1035226416   Микола    22000     pending\n",
      "5  1035226417  Наталія    27000    approved\n",
      "6  1035568425  Альберт    35000    approved\n"
     ]
    }
   ],
   "source": [
    "#10 Створіть функцію, яка приймає два аргументи, створює DataFrame, \n",
    "# додає новий рядок з даними нового клієнта (bank_clients2) до bank_clients і повертає оновлений DataFrame\n",
    "\n",
    "\n",
    "bank_clients = [\n",
    "    {'client_id': 1035226412, 'name': 'Юрій', 'balance': 15000, 'loan_status': 'approved'},\n",
    "    {'client_id': 1035226413, 'name': 'Лариса', 'balance': 25000, 'loan_status': 'pending'},\n",
    "    {'client_id': 1035226414, 'name': 'Ігор', 'balance': 20000, 'loan_status': 'approved'},\n",
    "    {'client_id': 1035226415, 'name': 'Олена', 'balance': 18000, 'loan_status': 'rejected'},\n",
    "    {'client_id': 1035226416, 'name': 'Микола', 'balance': 22000, 'loan_status': 'pending'},\n",
    "    {'client_id': 1035226417, 'name': 'Наталія', 'balance': 27000, 'loan_status': 'approved'}\n",
    "]\n",
    "bank_clients2 = [\n",
    "    {'client_id': 1035568425, 'name': 'Альберт', 'balance': 35000, 'loan_status': 'approved'},\n",
    "\n",
    "]\n",
    "\n",
    "def task_10(bank_clients, bank_clients2):\n",
    "    df = pd.DataFrame(bank_clients)\n",
    "    bank_clients2 = pd.DataFrame(bank_clients2)\n",
    "    df = pd.concat([df, bank_clients2], ignore_index=True)\n",
    "    return df\n",
    "    # return dataframe\n",
    "\n",
    "\n",
    "print(task_10(bank_clients, bank_clients2)) "
   ]
  },
  {
   "cell_type": "code",
   "execution_count": 12,
   "metadata": {},
   "outputs": [
    {
     "name": "stdout",
     "output_type": "stream",
     "text": [
      "   member_id    name membership_type  fee_paid\n",
      "0        101    Олег            Gold      True\n",
      "1        102    Юлія          Silver     False\n",
      "3        104  Оксана            Gold      True\n",
      "4        105   Денис          Silver     False\n"
     ]
    }
   ],
   "source": [
    "#11 Створіть функцію, яка приймає список словників, створює DataFrame, видаляє рядок з даними клієнта \"Аліна\", і повертає оновлений DataFrame.\n",
    "\n",
    "membership_data = [\n",
    "    {'member_id': 101, 'name': 'Олег', 'membership_type': 'Gold', 'fee_paid': True},\n",
    "    {'member_id': 102, 'name': 'Юлія', 'membership_type': 'Silver', 'fee_paid': False},\n",
    "    {'member_id': 103, 'name': 'Аліна', 'membership_type': 'Platinum', 'fee_paid': True},\n",
    "    {'member_id': 104, 'name': 'Оксана', 'membership_type': 'Gold', 'fee_paid': True},\n",
    "    {'member_id': 105, 'name': 'Денис', 'membership_type': 'Silver', 'fee_paid': False},\n",
    "    {'member_id': 106, 'name': 'Аліна', 'membership_type': 'Platinum', 'fee_paid': True}\n",
    "]\n",
    "\n",
    "def task_11(membership_data):\n",
    "    df = pd.DataFrame(membership_data)\n",
    "    df = df[ df['name'] != 'Аліна']\n",
    "    return df\n",
    "    # return dataframe\n",
    "\n",
    "\n",
    "print(task_11(membership_data)) "
   ]
  },
  {
   "cell_type": "code",
   "execution_count": 13,
   "metadata": {},
   "outputs": [
    {
     "name": "stdout",
     "output_type": "stream",
     "text": [
      "total balace: 127000, average_loan_amount: 7500.0 \n",
      "\n",
      "\n",
      "    client_id     name  balance  loan_amount  net_balance\n",
      "0  1035226412     Юрій    15000         5000        10000\n",
      "1  1035226413   Лариса    25000        10000        15000\n",
      "2  1035226414     Ігор    20000         7000        13000\n",
      "3  1035226415    Олена    18000         8000        10000\n",
      "4  1035226416   Микола    22000         6000        16000\n",
      "5  1035226417  Наталія    27000         9000        18000\n"
     ]
    }
   ],
   "source": [
    "#12 Створіть функцію, яка приймає список словників, створює DataFrame, обчислює загальну суму балансу (balance), \n",
    "# середню суму позики (loan_amount), додає новий рядок net_balance, підраховує різницю між balance і loan_amount, \n",
    "# записує її в новий рядок net_balance та повертає оновлений DataFrame.\n",
    "\n",
    "client_info = [\n",
    "    {'client_id': 1035226412, 'name': 'Юрій', 'balance': 15000, 'loan_amount': 5000},\n",
    "    {'client_id': 1035226413, 'name': 'Лариса', 'balance': 25000, 'loan_amount': 10000},\n",
    "    {'client_id': 1035226414, 'name': 'Ігор', 'balance': 20000, 'loan_amount': 7000},\n",
    "    {'client_id': 1035226415, 'name': 'Олена', 'balance': 18000, 'loan_amount': 8000},\n",
    "    {'client_id': 1035226416, 'name': 'Микола', 'balance': 22000, 'loan_amount': 6000},\n",
    "    {'client_id': 1035226417, 'name': 'Наталія', 'balance': 27000, 'loan_amount': 9000}\n",
    "]\n",
    "\n",
    "\n",
    "def task_12(client_info):\n",
    "    df = pd.DataFrame(client_info)\n",
    "    total_balance = df['balance'].sum()\n",
    "    average_loan_amount = df['loan_amount'].mean()\n",
    "    print(f\"total balace: {total_balance}, average_loan_amount: {average_loan_amount} \\n\\n\")\n",
    "    df['net_balance'] = df['balance'] - df['loan_amount']\n",
    "    return df\n",
    "    # return dataframe\n",
    "\n",
    "\n",
    "print(task_12(client_info)) "
   ]
  },
  {
   "cell_type": "code",
   "execution_count": 14,
   "metadata": {},
   "outputs": [
    {
     "name": "stdout",
     "output_type": "stream",
     "text": [
      "                  balance      \n",
      "                     mean count\n",
      "loan_status                    \n",
      "approved     20666.666667     3\n",
      "pending      23500.000000     2\n",
      "rejected     18000.000000     1\n"
     ]
    }
   ],
   "source": [
    "#13 Створіть функцію, яка приймає список словників, створює DataFrame, \n",
    "# групує дані за loan_status та обчислює середній баланс (balance) для кожної групи, \n",
    "# а також підраховує кількість клієнтів у кожній групі. Поверніть результати групування та агрегування.\n",
    "\n",
    "clients_list = [\n",
    "    {'client_id': 1035226412, 'name': 'Юрій', 'balance': 15000, 'loan_status': 'approved'},\n",
    "    {'client_id': 1035226413, 'name': 'Лариса', 'balance': 25000, 'loan_status': 'pending'},\n",
    "    {'client_id': 1035226414, 'name': 'Ігор', 'balance': 20000, 'loan_status': 'approved'},\n",
    "    {'client_id': 1035226415, 'name': 'Олена', 'balance': 18000, 'loan_status': 'rejected'},\n",
    "    {'client_id': 1035226416, 'name': 'Микола', 'balance': 22000, 'loan_status': 'pending'},\n",
    "    {'client_id': 1035226417, 'name': 'Наталія', 'balance': 27000, 'loan_status': 'approved'}\n",
    "]\n",
    "\n",
    "\n",
    "def task_13(clients_list):\n",
    "    df = pd.DataFrame(clients_list)\n",
    "    grouped_df = df.groupby('loan_status').agg({'balance': ['mean', 'count']})\n",
    "    return grouped_df\n",
    "\n",
    "    # return dataframe\n",
    "\n",
    "\n",
    "\n",
    "print(task_13(clients_list))"
   ]
  },
  {
   "cell_type": "code",
   "execution_count": 15,
   "metadata": {},
   "outputs": [
    {
     "name": "stdout",
     "output_type": "stream",
     "text": [
      "    client_id     name  balance loan_status  transaction_amount  \\\n",
      "0  1035226412     Юрій    15000    approved                5000   \n",
      "1  1035226413   Лариса    25000     pending                7000   \n",
      "2  1035226414     Ігор    20000    approved                3000   \n",
      "3  1035226415    Олена    18000    rejected               10000   \n",
      "4  1035226416   Микола    22000     pending                2000   \n",
      "5  1035226417  Наталія    27000    approved                1500   \n",
      "\n",
      "  transaction_type  \n",
      "0            debit  \n",
      "1           credit  \n",
      "2            debit  \n",
      "3           credit  \n",
      "4            debit  \n",
      "5           credit  \n"
     ]
    }
   ],
   "source": [
    "#14 Створіть функцію, яка приймає два списки словників, створює DataFrame для кожного з них, \n",
    "# з'єднує ці DataFrame за client_id і повертає результат з'єднання.\n",
    "\n",
    "clients_data = [\n",
    "    {'client_id': 1035226412, 'name': 'Юрій', 'balance': 15000},\n",
    "    {'client_id': 1035226413, 'name': 'Лариса', 'balance': 25000},\n",
    "    {'client_id': 1035226414, 'name': 'Ігор', 'balance': 20000},\n",
    "    {'client_id': 1035226415, 'name': 'Олена', 'balance': 18000},\n",
    "    {'client_id': 1035226420, 'name': 'Микола', 'balance': 22000},\n",
    "    {'client_id': 1035226417, 'name': 'Наталія', 'balance': 27000}\n",
    "]\n",
    "\n",
    "transactions = [\n",
    "    {'client_id': 1035226412, 'transaction_amount': 5000, 'transaction_type': 'debit'},\n",
    "    {'client_id': 1035226413, 'transaction_amount': 7000, 'transaction_type': 'credit'},\n",
    "    {'client_id': 1035226414, 'transaction_amount': 3000, 'transaction_type': 'debit'},\n",
    "    {'client_id': 1035226415, 'transaction_amount': 10000, 'transaction_type': 'credit'},\n",
    "    {'client_id': 1035226416, 'transaction_amount': 2000, 'transaction_type': 'debit'},\n",
    "    {'client_id': 1035226417, 'transaction_amount': 1500, 'transaction_type': 'credit'}\n",
    "]\n",
    "\n",
    "def task_13(clients_data, transactions):\n",
    "    df_clients_data = pd.DataFrame(clients_list)\n",
    "    df_transactions = pd.DataFrame(transactions)\n",
    "    df_merged = pd.merge(df_clients_data, df_transactions, on='client_id')\n",
    "    return df_merged\n",
    "    # return dataframe\n",
    "\n",
    "\n",
    "print(task_13(clients_data, transactions))"
   ]
  },
  {
   "cell_type": "code",
   "execution_count": 16,
   "metadata": {},
   "outputs": [
    {
     "name": "stdout",
     "output_type": "stream",
     "text": [
      "    client_id     name  balance  loan_amount\n",
      "0  1035226412     Юрій  15000.0       5000.0\n",
      "1  1035226413   Лариса      0.0      10000.0\n",
      "2  1035226414     Ігор  20000.0          0.0\n",
      "3  1035226415    Олена  18000.0       8000.0\n",
      "4  1035226416  Unknown  22000.0       6000.0\n",
      "5  1035226417  Наталія  27000.0       9000.0\n"
     ]
    },
    {
     "name": "stderr",
     "output_type": "stream",
     "text": [
      "/var/folders/tx/86rh89c14295d4lt_9_1h2sh0000gn/T/ipykernel_3615/2418075662.py:15: FutureWarning: A value is trying to be set on a copy of a DataFrame or Series through chained assignment using an inplace method.\n",
      "The behavior will change in pandas 3.0. This inplace method will never work because the intermediate object on which we are setting values always behaves as a copy.\n",
      "\n",
      "For example, when doing 'df[col].method(value, inplace=True)', try using 'df.method({col: value}, inplace=True)' or df[col] = df[col].method(value) instead, to perform the operation inplace on the original object.\n",
      "\n",
      "\n",
      "  df['balance'].fillna(0, inplace=True)\n",
      "/var/folders/tx/86rh89c14295d4lt_9_1h2sh0000gn/T/ipykernel_3615/2418075662.py:16: FutureWarning: A value is trying to be set on a copy of a DataFrame or Series through chained assignment using an inplace method.\n",
      "The behavior will change in pandas 3.0. This inplace method will never work because the intermediate object on which we are setting values always behaves as a copy.\n",
      "\n",
      "For example, when doing 'df[col].method(value, inplace=True)', try using 'df.method({col: value}, inplace=True)' or df[col] = df[col].method(value) instead, to perform the operation inplace on the original object.\n",
      "\n",
      "\n",
      "  df['loan_amount'].fillna(0, inplace=True)\n",
      "/var/folders/tx/86rh89c14295d4lt_9_1h2sh0000gn/T/ipykernel_3615/2418075662.py:17: FutureWarning: A value is trying to be set on a copy of a DataFrame or Series through chained assignment using an inplace method.\n",
      "The behavior will change in pandas 3.0. This inplace method will never work because the intermediate object on which we are setting values always behaves as a copy.\n",
      "\n",
      "For example, when doing 'df[col].method(value, inplace=True)', try using 'df.method({col: value}, inplace=True)' or df[col] = df[col].method(value) instead, to perform the operation inplace on the original object.\n",
      "\n",
      "\n",
      "  df['name'].fillna('Unknown', inplace=True)\n"
     ]
    }
   ],
   "source": [
    "#15 Створіть функцію, яка приймає список словників, створює DataFrame, обробляє пропущені значення, заповнюючи їх заданими значеннями: \n",
    "# balance заповнюється значенням 0, loan_amount заповнюється значенням 0, name заповнюється значенням \"Unknown\".\n",
    "\n",
    "bank_clients = [\n",
    "    {'client_id': 1035226412, 'name': 'Юрій', 'balance': 15000, 'loan_amount': 5000},\n",
    "    {'client_id': 1035226413, 'name': 'Лариса', 'balance': None, 'loan_amount': 10000},\n",
    "    {'client_id': 1035226414, 'name': 'Ігор', 'balance': 20000, 'loan_amount': None},\n",
    "    {'client_id': 1035226415, 'name': 'Олена', 'balance': 18000, 'loan_amount': 8000},\n",
    "    {'client_id': 1035226416, 'name': None, 'balance': 22000, 'loan_amount': 6000},\n",
    "    {'client_id': 1035226417, 'name': 'Наталія', 'balance': 27000, 'loan_amount': 9000}\n",
    "]\n",
    "\n",
    "def task_15(bank_clients):\n",
    "    df = pd.DataFrame(bank_clients)\n",
    "    df['balance'].fillna(0, inplace=True)\n",
    "    df['loan_amount'].fillna(0, inplace=True)\n",
    "    df['name'].fillna('Unknown', inplace=True)\n",
    "    return df\n",
    "    # return dataframe\n",
    "\n",
    "print(task_15(bank_clients))"
   ]
  },
  {
   "cell_type": "code",
   "execution_count": 18,
   "metadata": {},
   "outputs": [
    {
     "name": "stdout",
     "output_type": "stream",
     "text": [
      "    client_id     name  balance  loan_amount  net_balace\n",
      "0  1035226412     Юрій    15000         5000       10000\n",
      "1  1035226413   Лариса    25000        10000       15000\n",
      "2  1035226414     Ігор    20000         7000       13000\n",
      "3  1035226415    Олена    18000         8000       10000\n",
      "4  1035226416   Микола    22000         6000       16000\n",
      "5  1035226417  Наталія    27000         9000       18000\n"
     ]
    }
   ],
   "source": [
    "#16 Створіть функцію, яка приймає список словників, створює DataFrame,\n",
    "#  застосовує функцію до кожного рядка для обчислення нового стовпця net_balance (різниця між balance і loan_amount)\n",
    "#  та додає цей стовпець до DataFrame. Поверніть оновлений DataFrame.\n",
    "\n",
    "clients_info = [\n",
    "    {'client_id': 1035226412, 'name': 'Юрій', 'balance': 15000, 'loan_amount': 5000},\n",
    "    {'client_id': 1035226413, 'name': 'Лариса', 'balance': 25000, 'loan_amount': 10000},\n",
    "    {'client_id': 1035226414, 'name': 'Ігор', 'balance': 20000, 'loan_amount': 7000},\n",
    "    {'client_id': 1035226415, 'name': 'Олена', 'balance': 18000, 'loan_amount': 8000},\n",
    "    {'client_id': 1035226416, 'name': 'Микола', 'balance': 22000, 'loan_amount': 6000},\n",
    "    {'client_id': 1035226417, 'name': 'Наталія', 'balance': 27000, 'loan_amount': 9000}\n",
    "]\n",
    "\n",
    "def calculate_net_balance(row):\n",
    "    return row['balance'] - row['loan_amount']\n",
    "\n",
    "def task_16(clients_info):\n",
    "    df = pd.DataFrame(clients_info)\n",
    "    df['net_balace'] = df.apply(calculate_net_balance, axis=1)\n",
    "    return df\n",
    "    # return dataframe\n",
    "\n",
    "\n",
    "print(task_16(clients_info))"
   ]
  }
 ],
 "metadata": {
  "kernelspec": {
   "display_name": "Python 3",
   "language": "python",
   "name": "python3"
  },
  "language_info": {
   "codemirror_mode": {
    "name": "ipython",
    "version": 3
   },
   "file_extension": ".py",
   "mimetype": "text/x-python",
   "name": "python",
   "nbconvert_exporter": "python",
   "pygments_lexer": "ipython3",
   "version": "3.12.4"
  }
 },
 "nbformat": 4,
 "nbformat_minor": 2
}
