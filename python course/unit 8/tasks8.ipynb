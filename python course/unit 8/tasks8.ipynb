{
 "cells": [
  {
   "cell_type": "code",
   "execution_count": 1,
   "metadata": {},
   "outputs": [
    {
     "name": "stdout",
     "output_type": "stream",
     "text": [
      "[Timestamp('2024-08-01 10:00:00'), Timestamp('2024-08-02 12:00:00'), Timestamp('2024-08-03 14:00:00')]\n"
     ]
    }
   ],
   "source": [
    "#1 Створіть функцію, яка зчитує список дат у вигляді рядків, перетворює їх у формат Timestamp, і повертає список об'єктів Timestamp.\n",
    "from datetime import datetime\n",
    "import pandas as pd\n",
    "\n",
    "def task_1(dates):\n",
    "    # Convert the list of date strings to Timestamps\n",
    "    timestamp_list = pd.to_datetime(dates).tolist()\n",
    "    return timestamp_list\n",
    "\n",
    "# Test data\n",
    "dates = ['2024-08-01 10:00:00', '2024-08-02 12:00:00', '2024-08-03 14:00:00']\n",
    "\n",
    "print(task_1(dates))\n"
   ]
  },
  {
   "cell_type": "code",
   "execution_count": 2,
   "metadata": {},
   "outputs": [
    {
     "name": "stdout",
     "output_type": "stream",
     "text": [
      "8\n"
     ]
    }
   ],
   "source": [
    "#2 Створіть функцію, яка приймає два об'єкти Timestamp та обчислює між ними різницю у днях. Поверніть результат як ціле число.\n",
    "import pandas as pd\n",
    "\n",
    "def task_2(timestamp1, timestamp2):\n",
    "    return (timestamp2 - timestamp1).days\n",
    "\n",
    "# Тестові дані\n",
    "timestamp1 = pd.Timestamp('2024-08-01 20:00:00')\n",
    "timestamp2 = pd.Timestamp('2024-08-10 10:00:00')\n",
    "print(task_2(timestamp1, timestamp2))"
   ]
  },
  {
   "cell_type": "code",
   "execution_count": 4,
   "metadata": {},
   "outputs": [],
   "source": [
    "#3 Створіть функцію, яка використовує бібліотеку pandas для створення часового ряду з випадковими даними за кожен день протягом 10 днів.\n",
    "#  Збережіть цей часовий ряд у CSV файл.\n",
    "import pandas as pd\n",
    "import numpy as np\n",
    "import csv\n",
    "\n",
    "def task_3():\n",
    "    ts = pd.Series(np.random.randn(10), index=pd.date_range(\"2024-09-01\", periods=10))\n",
    "    df = ts.reset_index()\n",
    "    df.columns = ['Date', 'Value']\n",
    "    df.to_csv('unit8_t3.csv', index=False)\n",
    "task_3()\n"
   ]
  },
  {
   "cell_type": "code",
   "execution_count": 5,
   "metadata": {},
   "outputs": [
    {
     "name": "stdout",
     "output_type": "stream",
     "text": [
      "date\n",
      "2024-08-04    13.0\n",
      "2024-08-11    20.0\n",
      "Freq: W-SUN, dtype: float64\n"
     ]
    }
   ],
   "source": [
    "#4 Створіть функцію, яка зчитує часовий ряд з CSV файлу, виконує ресемплінг даних за тиждень (обчислює середнє значення за кожен тиждень),\n",
    "#  та зберігає результат у новий CSV файл.\n",
    "import csv\n",
    "import pandas as pd\n",
    "\n",
    "def task_4_create_csv():\n",
    "    # Тестові дані\n",
    "    # Створення тестового CSV файлу з часовим рядом\n",
    "    data = {\n",
    "        'date': ['2024-08-01', '2024-08-02', '2024-08-03', '2024-08-04', '2024-08-05', '2024-08-06', '2024-08-07'],\n",
    "        'value': [10, 12, 14, 16, 18, 20, 22]\n",
    "    }\n",
    "    df = pd.DataFrame(data)\n",
    "    df.to_csv('time_series.csv', index=False)\n",
    "\n",
    "def task_4():\n",
    "    task_4_create_csv()\n",
    "    \n",
    "    df = pd.read_csv('time_series.csv')\n",
    "    df['date'] = pd.to_datetime(df['date'])\n",
    "    series = pd.Series( df['value'].values, index= df['date'] )\n",
    "    resampler = series.resample('W').mean()\n",
    "\n",
    "    df1 = resampler.reset_index()\n",
    "    df1.columns = ['Date', 'Value']\n",
    "    df1.to_csv('unit8_t4.csv', index=False)\n",
    "    print(resampler)\n",
    "    # return None\n",
    "\n",
    "task_4()\n",
    "\n"
   ]
  },
  {
   "cell_type": "code",
   "execution_count": 6,
   "metadata": {},
   "outputs": [
    {
     "name": "stdout",
     "output_type": "stream",
     "text": [
      "2024-09-30 10:00:00\n"
     ]
    },
    {
     "data": {
      "text/plain": [
       "False"
      ]
     },
     "execution_count": 6,
     "metadata": {},
     "output_type": "execute_result"
    }
   ],
   "source": [
    "#5 Створіть функцію, яка приймає Timestamp та обчислює, чи припадає ця дата на вихідний день. Поверніть результат як булеве значення.\n",
    "\n",
    "def task_5(timestamp):\n",
    "    day_number = (timestamp.weekday() + 1) % 7\n",
    "    #print(day_number)\n",
    "    if day_number == 0 or day_number == 6:\n",
    "        return True\n",
    "    return False\n",
    "    # return bool\n",
    "\n",
    "# Тестові дані\n",
    "timestamp = pd.Timestamp('2024-09-30 10:00:00')  # Це субота\n",
    "print(timestamp)\n",
    "task_5(timestamp)"
   ]
  },
  {
   "cell_type": "code",
   "execution_count": 7,
   "metadata": {},
   "outputs": [
    {
     "data": {
      "text/plain": [
       "63.0"
      ]
     },
     "execution_count": 7,
     "metadata": {},
     "output_type": "execute_result"
    }
   ],
   "source": [
    "#6 Створіть функцію, яка приймає два об'єкти Timedelta, обчислює різницю між ними та повертає результат у годинах.\n",
    "import datetime\n",
    "\n",
    "def task_6(timedelta1, timedelta2):\n",
    "    substration = timedelta1 - timedelta2\n",
    "    hours = substration.total_seconds() / 3600\n",
    "    #print(type(hours))\n",
    "    return hours\n",
    "\n",
    "# Тестові дані\n",
    "timedelta1 = pd.Timedelta(days=5, hours=3)\n",
    "timedelta2 = pd.Timedelta(days=2, hours=12)\n",
    "\n",
    "task_6(timedelta1, timedelta2)"
   ]
  },
  {
   "cell_type": "code",
   "execution_count": 8,
   "metadata": {},
   "outputs": [
    {
     "data": {
      "text/plain": [
       "np.float64(29.20347372453106)"
      ]
     },
     "execution_count": 8,
     "metadata": {},
     "output_type": "execute_result"
    }
   ],
   "source": [
    "#7 Створіть функцію, що створює DataFrame з випадковими даними про погодні умови за кожен день протягом 30 днів.\n",
    "# Підрахуйте середню температуру за останні 7 днів та поверніть її як число.\n",
    "import pandas as pd\n",
    "import numpy as np\n",
    "\n",
    "def task_7():\n",
    "    np.random.seed(24)\n",
    "    dates = pd.date_range(start='2024-08-01', periods=30, freq='D')\n",
    "    temperatures = np.random.uniform(low=15, high=35, size=30) \n",
    "    df = pd.DataFrame()\n",
    "    df['Date'] = dates\n",
    "    df['Temperature'] = temperatures\n",
    "    df1 = df[-7:]\n",
    "    return df1['Temperature'].mean()\n",
    "\n",
    "task_7()\n",
    "\n"
   ]
  },
  {
   "cell_type": "code",
   "execution_count": 9,
   "metadata": {},
   "outputs": [],
   "source": [
    "#8 Створіть функцію, яка зчитує часовий ряд з CSV файлу, фільтрує дані для певного місяця, та зберігає відфільтровані дані у новий CSV файл.\n",
    "\n",
    "def task_8_create():\n",
    "        # Тестові дані\n",
    "    month = '08'  # Фільтрація для серпня\n",
    "    # Передбачається наявність CSV файлу `time_series.csv` з часовим рядом:\n",
    "    data = {\n",
    "            'date': ['2024-10-01', '2024-08-02', '2024-08-03', '2024-08-04', '2024-08-05', '2024-09-06', '2024-08-07'],\n",
    "            'value': [10, 12, 14, 16, 18, 20, 22]\n",
    "        }\n",
    "    df = pd.DataFrame(data)\n",
    "    df.to_csv('time_series.csv', index=False)\n",
    "\n",
    "def task_8(month):\n",
    "    task_8_create()\n",
    "    df = pd.read_csv('time_series.csv')\n",
    "    df['date'] = pd.to_datetime(df['date'])\n",
    "    df =  df[df['date'].dt.month == int(month)]\n",
    "    df = df.sort_values(by='value', ascending = False)\n",
    "    df.to_csv('unit8_t8.csv', index=False)\n",
    "    # return None\n",
    "\n",
    "task_8('08')\n"
   ]
  },
  {
   "cell_type": "code",
   "execution_count": 10,
   "metadata": {},
   "outputs": [
    {
     "name": "stderr",
     "output_type": "stream",
     "text": [
      "/var/folders/tx/86rh89c14295d4lt_9_1h2sh0000gn/T/ipykernel_3730/2506447999.py:11: FutureWarning: 'H' is deprecated and will be removed in a future version, please use 'h' instead.\n",
      "  df_resampled = df.asfreq('12H', how='start')\n"
     ]
    }
   ],
   "source": [
    "#9 Створіть функцію, яка створює DataFrame з індексами типу DatetimeIndex, що представляють кожен день протягом 15 днів. \n",
    "# Змініть частоту цього індексу на \"12H\" та збережіть результати у Parquet файл.\n",
    "import pandas as pd\n",
    "import numpy as np\n",
    "\n",
    "def task_9():\n",
    "    dates = pd.date_range('2023-09-01', periods=15)\n",
    "    data =  {'Value': np.random.uniform(low=1, high=100, size=15)}  \n",
    "    df = pd.DataFrame(data, index=dates)\n",
    "\n",
    "    df_resampled = df.asfreq('12H', how='start')\n",
    "    df_resampled = df_resampled.ffill()\n",
    "    df_resampled.to_parquet('unit8_t9.parquet', index=True)\n",
    "    #df_read = pd.read_parquet('unit8_t9.parquet')\n",
    "   # print(df_read)\n",
    "    #print(df_resampled)\n",
    "    # return None\n",
    "task_9()\n",
    "# Тестові дані\n",
    "# Випадкові дати генеруються всередині функції, тому спеціальних вхідних даних немає."
   ]
  },
  {
   "cell_type": "code",
   "execution_count": 11,
   "metadata": {},
   "outputs": [
    {
     "name": "stdout",
     "output_type": "stream",
     "text": [
      "   difference\n",
      "0         NaN\n",
      "1        59.0\n",
      "2         3.0\n",
      "3       -47.0\n",
      "4        19.0\n",
      "5        32.0\n",
      "6         1.0\n",
      "7         5.0\n",
      "8       -53.0\n",
      "9        38.0\n"
     ]
    }
   ],
   "source": [
    "#10 Створіть функцію, що зчитує часовий ряд з Parquet файлу, обчислює різницю між кожним значенням та попереднім, і зберігає ці різниці у новий Parquet файл.\n",
    "import pandas as pd\n",
    "import numpy as np\n",
    "import pyarrow as pa\n",
    "import pyarrow.parquet as pq\n",
    "\n",
    "def task_10_create_file():\n",
    "    dates = pd.date_range(start='2024-08-01', periods=10, freq='D')\n",
    "    values = np.random.randint(10, 100, size=10)\n",
    "    \n",
    "    df = pd.DataFrame({\n",
    "        'date': dates,\n",
    "        'value': values\n",
    "    })\n",
    "    \n",
    "    # Збереження DataFrame у Parquet файл\n",
    "    table = pa.Table.from_pandas(df)\n",
    "    pq.write_table(table, 'time_series.parquet')\n",
    "\n",
    "#task_10_create_file()\n",
    "\n",
    "def task_10():\n",
    "    task_10_create_file()\n",
    "    \n",
    "    table = pq.read_table('time_series.parquet')\n",
    "    df = table.to_pandas()\n",
    "\n",
    "    df['difference'] = df['value'].diff()\n",
    "\n",
    "    df1 = pd.DataFrame()\n",
    "    df1['difference'] = df['difference']\n",
    "\n",
    "    new_table = pa.Table.from_pandas(df1)\n",
    "    pq.write_table(new_table, 'unit8_t10.parquet')\n",
    "\n",
    "    df_read = pd.read_parquet('unit8_t10.parquet')\n",
    "    print(df_read)\n",
    "\n",
    "\n",
    "\n",
    "task_10()"
   ]
  }
 ],
 "metadata": {
  "kernelspec": {
   "display_name": "Python 3",
   "language": "python",
   "name": "python3"
  },
  "language_info": {
   "codemirror_mode": {
    "name": "ipython",
    "version": 3
   },
   "file_extension": ".py",
   "mimetype": "text/x-python",
   "name": "python",
   "nbconvert_exporter": "python",
   "pygments_lexer": "ipython3",
   "version": "3.12.4"
  }
 },
 "nbformat": 4,
 "nbformat_minor": 2
}
